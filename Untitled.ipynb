{
 "cells": [
  {
   "cell_type": "code",
   "execution_count": 1,
   "id": "d5144b4c-bd13-4f29-8599-af6b47e2599c",
   "metadata": {},
   "outputs": [],
   "source": [
    "# 1. Print numbers from 1 to 5 using a while loop."
   ]
  },
  {
   "cell_type": "code",
   "execution_count": 2,
   "id": "b66d44d6-db89-428b-b7a7-e8eb9b96a2d8",
   "metadata": {},
   "outputs": [
    {
     "name": "stdout",
     "output_type": "stream",
     "text": [
      "1\n",
      "2\n",
      "3\n",
      "4\n",
      "5\n"
     ]
    }
   ],
   "source": [
    "i = 1\n",
    "while i <= 5:\n",
    "  print(i)\n",
    "  i += 1"
   ]
  },
  {
   "cell_type": "code",
   "execution_count": 3,
   "id": "12468329-8d73-4a5a-8b2c-e36123c672c0",
   "metadata": {},
   "outputs": [],
   "source": [
    "# 2. Calculate the sum of numbers from 1 to 10 using a while loop."
   ]
  },
  {
   "cell_type": "code",
   "execution_count": 4,
   "id": "01284528-b632-478e-9a0b-d3dbf731f2f9",
   "metadata": {},
   "outputs": [
    {
     "name": "stdout",
     "output_type": "stream",
     "text": [
      "The sum of numbers from 1 to 10 is: 55\n"
     ]
    }
   ],
   "source": [
    "sum = 0\n",
    "i = 1\n",
    "\n",
    "while i <= 10:\n",
    "  sum += i\n",
    "  i += 1\n",
    "\n",
    "print(f\"The sum of numbers from 1 to 10 is: {sum}\")"
   ]
  },
  {
   "cell_type": "code",
   "execution_count": 5,
   "id": "db4730ee-c359-497a-8feb-be25fafab651",
   "metadata": {},
   "outputs": [],
   "source": [
    "# 3. Calculate the factorial of a number using a for loop."
   ]
  },
  {
   "cell_type": "code",
   "execution_count": 6,
   "id": "4d0a2994-4374-4fc4-8402-93e583aaaeea",
   "metadata": {},
   "outputs": [
    {
     "name": "stdout",
     "output_type": "stream",
     "text": [
      "The factorial of 5 is: 120\n"
     ]
    }
   ],
   "source": [
    "num = 5\n",
    "fact = 1\n",
    "for i in range(1, num + 1):\n",
    "  fact *= i\n",
    "print(f\"The factorial of {num} is: {fact}\")"
   ]
  },
  {
   "cell_type": "code",
   "execution_count": 7,
   "id": "ad52d8f6-dda4-4722-8a5a-8675209d6d19",
   "metadata": {},
   "outputs": [],
   "source": [
    "# 4. Count the number of vowels in a string using a for loop."
   ]
  },
  {
   "cell_type": "code",
   "execution_count": 8,
   "id": "8cec3761-984c-482b-80d4-3a0b025a90b1",
   "metadata": {},
   "outputs": [
    {
     "name": "stdout",
     "output_type": "stream",
     "text": [
      "The number of vowels in 'my name is khateeb' is: 6\n"
     ]
    }
   ],
   "source": [
    "s = \"my name is khateeb\"\n",
    "v = \"aeiou\"\n",
    "count = 0\n",
    "for char in s:\n",
    "  if char in v:\n",
    "    count += 1\n",
    "print(f\"The number of vowels in '{s}' is: {count}\")"
   ]
  },
  {
   "cell_type": "code",
   "execution_count": 10,
   "id": "f71b9ab0-422a-40fb-a3af-4e5f0366f103",
   "metadata": {},
   "outputs": [],
   "source": [
    "# 5. Print a pattern using nested loop."
   ]
  },
  {
   "cell_type": "code",
   "execution_count": 11,
   "id": "6e73c6e0-cb81-4a3f-9d60-837db8248a6b",
   "metadata": {},
   "outputs": [
    {
     "name": "stdin",
     "output_type": "stream",
     "text": [
      "Enter the number of rows:  5\n"
     ]
    },
    {
     "name": "stdout",
     "output_type": "stream",
     "text": [
      "    *\n",
      "   ***\n",
      "  *****\n",
      " *******\n",
      "*********\n"
     ]
    }
   ],
   "source": [
    "rows = int(input(\"Enter the number of rows: \"))\n",
    "for i in range(1, rows + 1):\n",
    "  for j in range(rows - i):\n",
    "    print(\" \", end=\"\")\n",
    "  for j in range(2 * i - 1):\n",
    "    print(\"*\", end=\"\")\n",
    "  print()"
   ]
  },
  {
   "cell_type": "code",
   "execution_count": 12,
   "id": "89e74bbf-b0d2-4ab1-902f-d117bdad0cb5",
   "metadata": {},
   "outputs": [],
   "source": [
    "# 6. Generate a multiplication table using nested loop."
   ]
  },
  {
   "cell_type": "code",
   "execution_count": 13,
   "id": "89ec0190-6cd7-41b1-8a54-c0a02bc3325d",
   "metadata": {},
   "outputs": [
    {
     "name": "stdin",
     "output_type": "stream",
     "text": [
      "Enter the number:  4\n"
     ]
    },
    {
     "name": "stdout",
     "output_type": "stream",
     "text": [
      "1 x 1 = 1\t1 x 2 = 2\t1 x 3 = 3\t1 x 4 = 4\t1 x 5 = 5\t1 x 6 = 6\t1 x 7 = 7\t1 x 8 = 8\t1 x 9 = 9\t1 x 10 = 10\t\n",
      "2 x 1 = 2\t2 x 2 = 4\t2 x 3 = 6\t2 x 4 = 8\t2 x 5 = 10\t2 x 6 = 12\t2 x 7 = 14\t2 x 8 = 16\t2 x 9 = 18\t2 x 10 = 20\t\n",
      "3 x 1 = 3\t3 x 2 = 6\t3 x 3 = 9\t3 x 4 = 12\t3 x 5 = 15\t3 x 6 = 18\t3 x 7 = 21\t3 x 8 = 24\t3 x 9 = 27\t3 x 10 = 30\t\n",
      "4 x 1 = 4\t4 x 2 = 8\t4 x 3 = 12\t4 x 4 = 16\t4 x 5 = 20\t4 x 6 = 24\t4 x 7 = 28\t4 x 8 = 32\t4 x 9 = 36\t4 x 10 = 40\t\n",
      "5 x 1 = 5\t5 x 2 = 10\t5 x 3 = 15\t5 x 4 = 20\t5 x 5 = 25\t5 x 6 = 30\t5 x 7 = 35\t5 x 8 = 40\t5 x 9 = 45\t5 x 10 = 50\t\n",
      "6 x 1 = 6\t6 x 2 = 12\t6 x 3 = 18\t6 x 4 = 24\t6 x 5 = 30\t6 x 6 = 36\t6 x 7 = 42\t6 x 8 = 48\t6 x 9 = 54\t6 x 10 = 60\t\n",
      "7 x 1 = 7\t7 x 2 = 14\t7 x 3 = 21\t7 x 4 = 28\t7 x 5 = 35\t7 x 6 = 42\t7 x 7 = 49\t7 x 8 = 56\t7 x 9 = 63\t7 x 10 = 70\t\n",
      "8 x 1 = 8\t8 x 2 = 16\t8 x 3 = 24\t8 x 4 = 32\t8 x 5 = 40\t8 x 6 = 48\t8 x 7 = 56\t8 x 8 = 64\t8 x 9 = 72\t8 x 10 = 80\t\n",
      "9 x 1 = 9\t9 x 2 = 18\t9 x 3 = 27\t9 x 4 = 36\t9 x 5 = 45\t9 x 6 = 54\t9 x 7 = 63\t9 x 8 = 72\t9 x 9 = 81\t9 x 10 = 90\t\n",
      "10 x 1 = 10\t10 x 2 = 20\t10 x 3 = 30\t10 x 4 = 40\t10 x 5 = 50\t10 x 6 = 60\t10 x 7 = 70\t10 x 8 = 80\t10 x 9 = 90\t10 x 10 = 100\t\n"
     ]
    }
   ],
   "source": [
    "num = int(input(\"Enter the number: \"))\n",
    "for i in range(1, 11):\n",
    "  for j in range(1, 11):\n",
    "    product = i * j\n",
    "    print(f\"{i} x {j} = {product}\", end=\"\\t\")\n",
    "  print()"
   ]
  },
  {
   "cell_type": "code",
   "execution_count": null,
   "id": "088fd0b6-aa92-45c0-9c78-b85d80fcf1c8",
   "metadata": {},
   "outputs": [],
   "source": []
  }
 ],
 "metadata": {
  "kernelspec": {
   "display_name": "Python 3 (ipykernel)",
   "language": "python",
   "name": "python3"
  },
  "language_info": {
   "codemirror_mode": {
    "name": "ipython",
    "version": 3
   },
   "file_extension": ".py",
   "mimetype": "text/x-python",
   "name": "python",
   "nbconvert_exporter": "python",
   "pygments_lexer": "ipython3",
   "version": "3.10.8"
  }
 },
 "nbformat": 4,
 "nbformat_minor": 5
}
